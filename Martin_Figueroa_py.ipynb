{
  "nbformat": 4,
  "nbformat_minor": 0,
  "metadata": {
    "colab": {
      "provenance": [],
      "name": "Martin Figueroa.py",
      "authorship_tag": "ABX9TyPi+JUDtcfJ5hOLYrGvjjQd",
      "include_colab_link": true
    },
    "kernelspec": {
      "name": "python3",
      "display_name": "Python 3"
    },
    "language_info": {
      "name": "python"
    }
  },
  "cells": [
    {
      "cell_type": "markdown",
      "metadata": {
        "id": "view-in-github",
        "colab_type": "text"
      },
      "source": [
        "<a href=\"https://colab.research.google.com/github/Figueeroaa/Google-Colab/blob/main/Martin_Figueroa_py.ipynb\" target=\"_parent\"><img src=\"https://colab.research.google.com/assets/colab-badge.svg\" alt=\"Open In Colab\"/></a>"
      ]
    },
    {
      "cell_type": "code",
      "execution_count": 19,
      "metadata": {
        "colab": {
          "base_uri": "https://localhost:8080/"
        },
        "id": "R561_7NRArOs",
        "outputId": "a4a1bf28-66aa-4c7d-ac86-e0e4e733dec5"
      },
      "outputs": [
        {
          "output_type": "stream",
          "name": "stdout",
          "text": [
            "calcular IMC\n",
            "Ingrese su peso\n",
            "75\n",
            "Ingrese su estatura\n",
            "1.77\n",
            "Tu indice de masa corporal es de 23.93948099205209\n",
            "su masa corporal es normal\n"
          ]
        }
      ],
      "source": [
        "print(\"calcular IMC\")\n",
        "peso=float(input(\"Ingrese su peso\\n\"))\n",
        "estatura=float(input(\"Ingrese su estatura\\n\"))\n",
        "IMC=peso/(estatura*estatura)\n",
        "print(\"Tu indice de masa corporal es de\", IMC)\n",
        "\n",
        "if IMC<25:\n",
        "  print(\"su masa corporal es normal\")\n",
        "\n",
        "elif IMC> 24:\n",
        "    print(\"su masa corporal es sobrepeso\")\n"
      ]
    }
  ]
}