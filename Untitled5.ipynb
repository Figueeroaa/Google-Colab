{
  "nbformat": 4,
  "nbformat_minor": 0,
  "metadata": {
    "colab": {
      "provenance": [],
      "authorship_tag": "ABX9TyNYxa3c8cG7PUSHXPqbc7pM",
      "include_colab_link": true
    },
    "kernelspec": {
      "name": "python3",
      "display_name": "Python 3"
    },
    "language_info": {
      "name": "python"
    }
  },
  "cells": [
    {
      "cell_type": "markdown",
      "metadata": {
        "id": "view-in-github",
        "colab_type": "text"
      },
      "source": [
        "<a href=\"https://colab.research.google.com/github/Figueeroaa/Google-Colab/blob/main/Untitled5.ipynb\" target=\"_parent\"><img src=\"https://colab.research.google.com/assets/colab-badge.svg\" alt=\"Open In Colab\"/></a>"
      ]
    },
    {
      "cell_type": "code",
      "execution_count": null,
      "metadata": {
        "colab": {
          "base_uri": "https://localhost:8080/"
        },
        "id": "5nEx2gT0Qs9g",
        "outputId": "023192c3-89ba-4dbb-8cd9-eaf50fd7a819"
      },
      "outputs": [
        {
          "output_type": "stream",
          "name": "stdout",
          "text": [
            "1. Calcular el área y perimetro de un cuadrado\n",
            "2. Calcular el área y perimetro de un triángulo\n",
            "3. Calcular el área y perimetro de un rectangulo\n",
            "4. Calcular el área y perimetro de un círculo\n",
            "5. Salir\n",
            "Opción: 1\n",
            "Lado del cuadrado: 18\n",
            "El área cuadrado es:  324.0\n",
            "El perimetro cuadrado es:  72.0\n",
            "1. Calcular el área y perimetro de un cuadrado\n",
            "2. Calcular el área y perimetro de un triángulo\n",
            "3. Calcular el área y perimetro de un rectangulo\n",
            "4. Calcular el área y perimetro de un círculo\n",
            "5. Salir\n",
            "Opción: 2\n",
            "Lado 1: 5\n",
            "Lado 2: 2.5\n",
            "Lado 3: 17\n",
            "El área del triángulo es:  (3.927055294523399e-15+64.13367996809477j)\n",
            "El rectangulo triángulo es:  24.5\n",
            "1. Calcular el área y perimetro de un cuadrado\n",
            "2. Calcular el área y perimetro de un triángulo\n",
            "3. Calcular el área y perimetro de un rectangulo\n",
            "4. Calcular el área y perimetro de un círculo\n",
            "5. Salir\n",
            "Opción: 4\n",
            "Radio del circulo: 5\n",
            "El área del círculo es:  78.53999999999999\n",
            "El perimetro círculo es:  31.416\n",
            "1. Calcular el área y perimetro de un cuadrado\n",
            "2. Calcular el área y perimetro de un triángulo\n",
            "3. Calcular el área y perimetro de un rectangulo\n",
            "4. Calcular el área y perimetro de un círculo\n",
            "5. Salir\n"
          ]
        }
      ],
      "source": [
        "\n",
        "while True:\n",
        "    print(\"1. Calcular el área y perimetro de un cuadrado\")\n",
        "    print(\"2. Calcular el área y perimetro de un triángulo\")\n",
        "    print(\"3. Calcular el área y perimetro de un rectangulo\")\n",
        "    print(\"4. Calcular el área y perimetro de un círculo\")\n",
        "    print(\"5. Salir\")\n",
        "    opcion = int(input(\"Opción: \"))\n",
        "\n",
        "    if opcion == 1:\n",
        "        lado = float(input(\"Lado del cuadrado: \"))\n",
        "        area = lado * lado\n",
        "        perimetro = lado * 4\n",
        "        print(\"El área cuadrado es: \", area)\n",
        "        print(\"El perimetro cuadrado es: \", perimetro)\n",
        "    elif opcion == 2:\n",
        "        lado1 = float(input(\"Lado 1: \"))\n",
        "        lado2 = float(input(\"Lado 2: \"))\n",
        "        lado3 = float(input(\"Lado 3: \"))\n",
        "        perimetro = lado1 + lado2 + lado3\n",
        "        semiperimetro = perimetro / 2\n",
        "        area = (semiperimetro * (semiperimetro - lado1) * (semiperimetro - lado2) * (semiperimetro - lado3)) ** 0.5\n",
        "        print(\"El área del triángulo es: \", area)\n",
        "        print(\"El rectangulo triángulo es: \", perimetro)\n",
        "    elif opcion == 3:\n",
        "        base = float(input(\"Base del rectangulo: \"))\n",
        "        altura = float(input(\"Altura del rectangulo: \"))\n",
        "        area = base * altura\n",
        "        perimetro = 2 * (base + altura)\n",
        "        print(\"El área del rectangulo es: \", area)\n",
        "        print(\"El perimetro del rectangulo es: \", perimetro)\n",
        "    elif opcion == 4:\n",
        "        radio = float(input(\"Radio del circulo: \"))\n",
        "        area = 3.1416 * radio ** 2\n",
        "        perimetro = 2 * 3.1416 * radio\n",
        "        print(\"El área del círculo es: \", area)\n",
        "        print(\"El perimetro círculo es: \", perimetro)\n",
        "\n",
        "    elif opcion == 5:\n",
        "        break\n",
        "    else:\n",
        "        print(\"Opción incorrecta\")"
      ]
    }
  ]
}